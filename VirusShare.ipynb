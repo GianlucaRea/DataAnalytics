{
 "cells": [
  {
   "cell_type": "markdown",
   "id": "df64285c",
   "metadata": {},
   "source": [
    "Reading dataset"
   ]
  },
  {
   "cell_type": "code",
   "execution_count": 1,
   "id": "6c7da821",
   "metadata": {},
   "outputs": [],
   "source": [
    "import os\n",
    "import numpy as np\n",
    "\n",
    "path = './Dataset/'\n",
    "\n",
    "line_counter = 0\n",
    "for filename in os.listdir(path):\n",
    "    f = os.path.join(path, filename)\n",
    "    if os.path.isfile(f):\n",
    "        fG = open(f)\n",
    "        data = fG.read()\n",
    "        fG.close()\n",
    "        lines = data.split('\\n')\n",
    "        line_counter += len(lines) - 1\n",
    "\n",
    "all_data = np.zeros((line_counter, 483), dtype='float32')\n",
    "line_counter = 0\n",
    "\n",
    "for filename in os.listdir(path):\n",
    "    f = os.path.join(path, filename)\n",
    "    if os.path.isfile(f):\n",
    "        fG = open(f)\n",
    "        data = fG.read()\n",
    "        fG.close()\n",
    "        lines = data.split('\\n')\n",
    "        for line in lines:\n",
    "            if line == \"\":\n",
    "                break\n",
    "            values = [x for x in line[0:len(line)-1].split(' ')[:]]\n",
    "            for i, value in enumerate(values):\n",
    "                if i == 0:\n",
    "                    all_data[line_counter, i] = value\n",
    "                else:\n",
    "                    key = value.split(':')[0]\n",
    "                    temp = value.split(':')[1]\n",
    "                    all_data[line_counter, int(key)+1] = temp\n",
    "            line_counter += 1"
   ]
  },
  {
   "cell_type": "code",
   "execution_count": 2,
   "id": "02595e45",
   "metadata": {},
   "outputs": [
    {
     "data": {
      "text/plain": [
       "(107856, 483)"
      ]
     },
     "execution_count": 2,
     "metadata": {},
     "output_type": "execute_result"
    }
   ],
   "source": [
    "np.shape(all_data) # we don't have understood why shape doesn't correspond to UCI dataset description (we have checked the parsing phase and seems to be all right)"
   ]
  },
  {
   "cell_type": "markdown",
   "id": "10030105",
   "metadata": {},
   "source": [
    "save labels in external data both in their natural form for make experiments with regression models and arounded for make experiments with classification models"
   ]
  },
  {
   "cell_type": "code",
   "execution_count": 3,
   "id": "33270437",
   "metadata": {},
   "outputs": [
    {
     "data": {
      "text/plain": [
       "array([0.07407407, 0.68421054, 0.8148148 , ..., 0.71929824, 0.40350878,\n",
       "       0.40350878], dtype=float32)"
      ]
     },
     "execution_count": 3,
     "metadata": {},
     "output_type": "execute_result"
    }
   ],
   "source": [
    "label_regression = all_data[:,0]\n",
    "label_regression"
   ]
  },
  {
   "cell_type": "code",
   "execution_count": 4,
   "id": "8dfbb4af",
   "metadata": {},
   "outputs": [
    {
     "data": {
      "text/plain": [
       "array([0, 1, 1, ..., 1, 0, 0])"
      ]
     },
     "execution_count": 4,
     "metadata": {},
     "output_type": "execute_result"
    }
   ],
   "source": [
    "label_classification = np.around(label_regression, decimals=0).astype(int)\n",
    "label_classification"
   ]
  },
  {
   "cell_type": "code",
   "execution_count": 5,
   "id": "64629711",
   "metadata": {},
   "outputs": [],
   "source": [
    "np.savetxt(\"./Labels/label_regression.csv\", label_regression, delimiter=';')\n",
    "np.savetxt(\"./Labels/label_classification.csv\", label_classification, delimiter=';')"
   ]
  },
  {
   "cell_type": "code",
   "execution_count": 6,
   "id": "0b9d2d44",
   "metadata": {},
   "outputs": [],
   "source": [
    "all_data = all_data[:,1:]"
   ]
  },
  {
   "cell_type": "markdown",
   "id": "e780fabb",
   "metadata": {},
   "source": [
    "convert into pandas dataframe in order to make statistical studies"
   ]
  },
  {
   "cell_type": "markdown",
   "id": "7f901fd3",
   "metadata": {},
   "source": [
    "# Description of feature (to do or just hint it and describe in slides)"
   ]
  },
  {
   "cell_type": "code",
   "execution_count": 7,
   "id": "038230af",
   "metadata": {},
   "outputs": [
    {
     "data": {
      "text/html": [
       "<div>\n",
       "<style scoped>\n",
       "    .dataframe tbody tr th:only-of-type {\n",
       "        vertical-align: middle;\n",
       "    }\n",
       "\n",
       "    .dataframe tbody tr th {\n",
       "        vertical-align: top;\n",
       "    }\n",
       "\n",
       "    .dataframe thead th {\n",
       "        text-align: right;\n",
       "    }\n",
       "</style>\n",
       "<table border=\"1\" class=\"dataframe\">\n",
       "  <thead>\n",
       "    <tr style=\"text-align: right;\">\n",
       "      <th></th>\n",
       "      <th>0</th>\n",
       "      <th>1</th>\n",
       "      <th>2</th>\n",
       "      <th>3</th>\n",
       "      <th>4</th>\n",
       "      <th>5</th>\n",
       "      <th>6</th>\n",
       "      <th>7</th>\n",
       "      <th>8</th>\n",
       "      <th>9</th>\n",
       "      <th>...</th>\n",
       "      <th>472</th>\n",
       "      <th>473</th>\n",
       "      <th>474</th>\n",
       "      <th>475</th>\n",
       "      <th>476</th>\n",
       "      <th>477</th>\n",
       "      <th>478</th>\n",
       "      <th>479</th>\n",
       "      <th>480</th>\n",
       "      <th>481</th>\n",
       "    </tr>\n",
       "  </thead>\n",
       "  <tbody>\n",
       "    <tr>\n",
       "      <th>0</th>\n",
       "      <td>3.0</td>\n",
       "      <td>0.0</td>\n",
       "      <td>0.0</td>\n",
       "      <td>0.0</td>\n",
       "      <td>0.0</td>\n",
       "      <td>0.0</td>\n",
       "      <td>0.0</td>\n",
       "      <td>0.0</td>\n",
       "      <td>0.0</td>\n",
       "      <td>0.0</td>\n",
       "      <td>...</td>\n",
       "      <td>0.0</td>\n",
       "      <td>0.0</td>\n",
       "      <td>0.0</td>\n",
       "      <td>0.0</td>\n",
       "      <td>0.0</td>\n",
       "      <td>0.0</td>\n",
       "      <td>0.0</td>\n",
       "      <td>0.0</td>\n",
       "      <td>0.0</td>\n",
       "      <td>0.0</td>\n",
       "    </tr>\n",
       "    <tr>\n",
       "      <th>1</th>\n",
       "      <td>0.0</td>\n",
       "      <td>0.0</td>\n",
       "      <td>0.0</td>\n",
       "      <td>0.0</td>\n",
       "      <td>0.0</td>\n",
       "      <td>0.0</td>\n",
       "      <td>0.0</td>\n",
       "      <td>0.0</td>\n",
       "      <td>0.0</td>\n",
       "      <td>0.0</td>\n",
       "      <td>...</td>\n",
       "      <td>0.0</td>\n",
       "      <td>0.0</td>\n",
       "      <td>0.0</td>\n",
       "      <td>0.0</td>\n",
       "      <td>0.0</td>\n",
       "      <td>0.0</td>\n",
       "      <td>0.0</td>\n",
       "      <td>0.0</td>\n",
       "      <td>0.0</td>\n",
       "      <td>0.0</td>\n",
       "    </tr>\n",
       "    <tr>\n",
       "      <th>2</th>\n",
       "      <td>0.0</td>\n",
       "      <td>0.0</td>\n",
       "      <td>0.0</td>\n",
       "      <td>0.0</td>\n",
       "      <td>0.0</td>\n",
       "      <td>0.0</td>\n",
       "      <td>0.0</td>\n",
       "      <td>0.0</td>\n",
       "      <td>0.0</td>\n",
       "      <td>0.0</td>\n",
       "      <td>...</td>\n",
       "      <td>0.0</td>\n",
       "      <td>0.0</td>\n",
       "      <td>0.0</td>\n",
       "      <td>0.0</td>\n",
       "      <td>0.0</td>\n",
       "      <td>0.0</td>\n",
       "      <td>0.0</td>\n",
       "      <td>0.0</td>\n",
       "      <td>0.0</td>\n",
       "      <td>0.0</td>\n",
       "    </tr>\n",
       "    <tr>\n",
       "      <th>3</th>\n",
       "      <td>0.0</td>\n",
       "      <td>0.0</td>\n",
       "      <td>0.0</td>\n",
       "      <td>0.0</td>\n",
       "      <td>0.0</td>\n",
       "      <td>1.0</td>\n",
       "      <td>0.0</td>\n",
       "      <td>0.0</td>\n",
       "      <td>0.0</td>\n",
       "      <td>0.0</td>\n",
       "      <td>...</td>\n",
       "      <td>1.0</td>\n",
       "      <td>0.0</td>\n",
       "      <td>0.0</td>\n",
       "      <td>0.0</td>\n",
       "      <td>0.0</td>\n",
       "      <td>0.0</td>\n",
       "      <td>0.0</td>\n",
       "      <td>0.0</td>\n",
       "      <td>0.0</td>\n",
       "      <td>0.0</td>\n",
       "    </tr>\n",
       "    <tr>\n",
       "      <th>4</th>\n",
       "      <td>0.0</td>\n",
       "      <td>0.0</td>\n",
       "      <td>0.0</td>\n",
       "      <td>0.0</td>\n",
       "      <td>0.0</td>\n",
       "      <td>0.0</td>\n",
       "      <td>0.0</td>\n",
       "      <td>0.0</td>\n",
       "      <td>0.0</td>\n",
       "      <td>0.0</td>\n",
       "      <td>...</td>\n",
       "      <td>0.0</td>\n",
       "      <td>0.0</td>\n",
       "      <td>0.0</td>\n",
       "      <td>0.0</td>\n",
       "      <td>0.0</td>\n",
       "      <td>0.0</td>\n",
       "      <td>0.0</td>\n",
       "      <td>0.0</td>\n",
       "      <td>0.0</td>\n",
       "      <td>0.0</td>\n",
       "    </tr>\n",
       "    <tr>\n",
       "      <th>...</th>\n",
       "      <td>...</td>\n",
       "      <td>...</td>\n",
       "      <td>...</td>\n",
       "      <td>...</td>\n",
       "      <td>...</td>\n",
       "      <td>...</td>\n",
       "      <td>...</td>\n",
       "      <td>...</td>\n",
       "      <td>...</td>\n",
       "      <td>...</td>\n",
       "      <td>...</td>\n",
       "      <td>...</td>\n",
       "      <td>...</td>\n",
       "      <td>...</td>\n",
       "      <td>...</td>\n",
       "      <td>...</td>\n",
       "      <td>...</td>\n",
       "      <td>...</td>\n",
       "      <td>...</td>\n",
       "      <td>...</td>\n",
       "      <td>...</td>\n",
       "    </tr>\n",
       "    <tr>\n",
       "      <th>107851</th>\n",
       "      <td>0.0</td>\n",
       "      <td>0.0</td>\n",
       "      <td>0.0</td>\n",
       "      <td>0.0</td>\n",
       "      <td>0.0</td>\n",
       "      <td>0.0</td>\n",
       "      <td>0.0</td>\n",
       "      <td>0.0</td>\n",
       "      <td>0.0</td>\n",
       "      <td>0.0</td>\n",
       "      <td>...</td>\n",
       "      <td>0.0</td>\n",
       "      <td>0.0</td>\n",
       "      <td>0.0</td>\n",
       "      <td>0.0</td>\n",
       "      <td>0.0</td>\n",
       "      <td>0.0</td>\n",
       "      <td>0.0</td>\n",
       "      <td>0.0</td>\n",
       "      <td>0.0</td>\n",
       "      <td>0.0</td>\n",
       "    </tr>\n",
       "    <tr>\n",
       "      <th>107852</th>\n",
       "      <td>0.0</td>\n",
       "      <td>0.0</td>\n",
       "      <td>0.0</td>\n",
       "      <td>0.0</td>\n",
       "      <td>0.0</td>\n",
       "      <td>0.0</td>\n",
       "      <td>0.0</td>\n",
       "      <td>0.0</td>\n",
       "      <td>0.0</td>\n",
       "      <td>0.0</td>\n",
       "      <td>...</td>\n",
       "      <td>0.0</td>\n",
       "      <td>0.0</td>\n",
       "      <td>0.0</td>\n",
       "      <td>0.0</td>\n",
       "      <td>0.0</td>\n",
       "      <td>0.0</td>\n",
       "      <td>0.0</td>\n",
       "      <td>0.0</td>\n",
       "      <td>0.0</td>\n",
       "      <td>0.0</td>\n",
       "    </tr>\n",
       "    <tr>\n",
       "      <th>107853</th>\n",
       "      <td>0.0</td>\n",
       "      <td>0.0</td>\n",
       "      <td>0.0</td>\n",
       "      <td>0.0</td>\n",
       "      <td>0.0</td>\n",
       "      <td>0.0</td>\n",
       "      <td>0.0</td>\n",
       "      <td>0.0</td>\n",
       "      <td>0.0</td>\n",
       "      <td>0.0</td>\n",
       "      <td>...</td>\n",
       "      <td>0.0</td>\n",
       "      <td>0.0</td>\n",
       "      <td>0.0</td>\n",
       "      <td>0.0</td>\n",
       "      <td>0.0</td>\n",
       "      <td>0.0</td>\n",
       "      <td>0.0</td>\n",
       "      <td>0.0</td>\n",
       "      <td>0.0</td>\n",
       "      <td>0.0</td>\n",
       "    </tr>\n",
       "    <tr>\n",
       "      <th>107854</th>\n",
       "      <td>0.0</td>\n",
       "      <td>0.0</td>\n",
       "      <td>0.0</td>\n",
       "      <td>0.0</td>\n",
       "      <td>0.0</td>\n",
       "      <td>4.0</td>\n",
       "      <td>0.0</td>\n",
       "      <td>0.0</td>\n",
       "      <td>0.0</td>\n",
       "      <td>0.0</td>\n",
       "      <td>...</td>\n",
       "      <td>0.0</td>\n",
       "      <td>0.0</td>\n",
       "      <td>0.0</td>\n",
       "      <td>0.0</td>\n",
       "      <td>0.0</td>\n",
       "      <td>0.0</td>\n",
       "      <td>0.0</td>\n",
       "      <td>0.0</td>\n",
       "      <td>0.0</td>\n",
       "      <td>0.0</td>\n",
       "    </tr>\n",
       "    <tr>\n",
       "      <th>107855</th>\n",
       "      <td>1.0</td>\n",
       "      <td>0.0</td>\n",
       "      <td>0.0</td>\n",
       "      <td>0.0</td>\n",
       "      <td>0.0</td>\n",
       "      <td>4.0</td>\n",
       "      <td>0.0</td>\n",
       "      <td>0.0</td>\n",
       "      <td>0.0</td>\n",
       "      <td>0.0</td>\n",
       "      <td>...</td>\n",
       "      <td>0.0</td>\n",
       "      <td>0.0</td>\n",
       "      <td>0.0</td>\n",
       "      <td>0.0</td>\n",
       "      <td>0.0</td>\n",
       "      <td>0.0</td>\n",
       "      <td>0.0</td>\n",
       "      <td>0.0</td>\n",
       "      <td>0.0</td>\n",
       "      <td>0.0</td>\n",
       "    </tr>\n",
       "  </tbody>\n",
       "</table>\n",
       "<p>107856 rows × 482 columns</p>\n",
       "</div>"
      ],
      "text/plain": [
       "        0    1    2    3    4    5    6    7    8    9    ...  472  473  474  \\\n",
       "0       3.0  0.0  0.0  0.0  0.0  0.0  0.0  0.0  0.0  0.0  ...  0.0  0.0  0.0   \n",
       "1       0.0  0.0  0.0  0.0  0.0  0.0  0.0  0.0  0.0  0.0  ...  0.0  0.0  0.0   \n",
       "2       0.0  0.0  0.0  0.0  0.0  0.0  0.0  0.0  0.0  0.0  ...  0.0  0.0  0.0   \n",
       "3       0.0  0.0  0.0  0.0  0.0  1.0  0.0  0.0  0.0  0.0  ...  1.0  0.0  0.0   \n",
       "4       0.0  0.0  0.0  0.0  0.0  0.0  0.0  0.0  0.0  0.0  ...  0.0  0.0  0.0   \n",
       "...     ...  ...  ...  ...  ...  ...  ...  ...  ...  ...  ...  ...  ...  ...   \n",
       "107851  0.0  0.0  0.0  0.0  0.0  0.0  0.0  0.0  0.0  0.0  ...  0.0  0.0  0.0   \n",
       "107852  0.0  0.0  0.0  0.0  0.0  0.0  0.0  0.0  0.0  0.0  ...  0.0  0.0  0.0   \n",
       "107853  0.0  0.0  0.0  0.0  0.0  0.0  0.0  0.0  0.0  0.0  ...  0.0  0.0  0.0   \n",
       "107854  0.0  0.0  0.0  0.0  0.0  4.0  0.0  0.0  0.0  0.0  ...  0.0  0.0  0.0   \n",
       "107855  1.0  0.0  0.0  0.0  0.0  4.0  0.0  0.0  0.0  0.0  ...  0.0  0.0  0.0   \n",
       "\n",
       "        475  476  477  478  479  480  481  \n",
       "0       0.0  0.0  0.0  0.0  0.0  0.0  0.0  \n",
       "1       0.0  0.0  0.0  0.0  0.0  0.0  0.0  \n",
       "2       0.0  0.0  0.0  0.0  0.0  0.0  0.0  \n",
       "3       0.0  0.0  0.0  0.0  0.0  0.0  0.0  \n",
       "4       0.0  0.0  0.0  0.0  0.0  0.0  0.0  \n",
       "...     ...  ...  ...  ...  ...  ...  ...  \n",
       "107851  0.0  0.0  0.0  0.0  0.0  0.0  0.0  \n",
       "107852  0.0  0.0  0.0  0.0  0.0  0.0  0.0  \n",
       "107853  0.0  0.0  0.0  0.0  0.0  0.0  0.0  \n",
       "107854  0.0  0.0  0.0  0.0  0.0  0.0  0.0  \n",
       "107855  0.0  0.0  0.0  0.0  0.0  0.0  0.0  \n",
       "\n",
       "[107856 rows x 482 columns]"
      ]
     },
     "execution_count": 7,
     "metadata": {},
     "output_type": "execute_result"
    }
   ],
   "source": [
    "import pandas as pd\n",
    "\n",
    "all_data_df = pd.DataFrame(all_data)\n",
    "all_data_df"
   ]
  },
  {
   "cell_type": "markdown",
   "id": "36d84c5b",
   "metadata": {},
   "source": [
    "check missing value"
   ]
  },
  {
   "cell_type": "code",
   "execution_count": 8,
   "id": "7daaf4c8",
   "metadata": {},
   "outputs": [],
   "source": [
    "if all_data_df.isnull().all().any():\n",
    "    print(\"some column has all null value\")\n",
    "if all_data_df.isnull().any().any():\n",
    "    print(\"some column has any null value\")"
   ]
  },
  {
   "cell_type": "markdown",
   "id": "e7f43b14",
   "metadata": {},
   "source": [
    "check column with all zeros"
   ]
  },
  {
   "cell_type": "code",
   "execution_count": 9,
   "id": "bdd0c640",
   "metadata": {},
   "outputs": [
    {
     "name": "stdout",
     "output_type": "stream",
     "text": [
      "217\n"
     ]
    }
   ],
   "source": [
    "column_c = 0\n",
    "for i, column in enumerate(all_data_df):\n",
    "    if (all_data_df[column] == 0).all():\n",
    "        column_c +=1\n",
    "print(column_c)"
   ]
  },
  {
   "cell_type": "markdown",
   "id": "a05f4552",
   "metadata": {},
   "source": [
    "make double check with all_data numpy array"
   ]
  },
  {
   "cell_type": "code",
   "execution_count": 10,
   "id": "93248636",
   "metadata": {},
   "outputs": [
    {
     "name": "stdout",
     "output_type": "stream",
     "text": [
      "217\n"
     ]
    }
   ],
   "source": [
    "column_c = 0\n",
    "for i in range(0, 482):\n",
    "    if (all_data[:,i] == 0).all():\n",
    "        column_c +=1\n",
    "print(column_c)"
   ]
  },
  {
   "cell_type": "code",
   "execution_count": 11,
   "id": "e2888b84",
   "metadata": {},
   "outputs": [
    {
     "name": "stdout",
     "output_type": "stream",
     "text": [
      "217\n"
     ]
    }
   ],
   "source": [
    "column_removed = []\n",
    "column_c = 0\n",
    "for i, column in reversed(list(enumerate(all_data_df))):   # in reverse order because we delete this columns also in numpy matrix (anyway indexing error because we are in a loop)\n",
    "    if (all_data_df[column] == 0).all():\n",
    "        column_removed.append(i)\n",
    "        column_c += 1\n",
    "        all_data_df.drop(column, axis=1, inplace=True)\n",
    "        all_data = np.delete(all_data, i, axis=1)\n",
    "print(column_c)"
   ]
  },
  {
   "cell_type": "code",
   "execution_count": 12,
   "id": "a67cc5b9",
   "metadata": {},
   "outputs": [
    {
     "data": {
      "text/plain": [
       "[481,\n",
       " 480,\n",
       " 479,\n",
       " 476,\n",
       " 474,\n",
       " 473,\n",
       " 471,\n",
       " 466,\n",
       " 465,\n",
       " 464,\n",
       " 463,\n",
       " 460,\n",
       " 459,\n",
       " 455,\n",
       " 450,\n",
       " 449,\n",
       " 447,\n",
       " 445,\n",
       " 444,\n",
       " 442,\n",
       " 441,\n",
       " 440,\n",
       " 439,\n",
       " 438,\n",
       " 436,\n",
       " 435,\n",
       " 434,\n",
       " 432,\n",
       " 431,\n",
       " 430,\n",
       " 429,\n",
       " 428,\n",
       " 427,\n",
       " 426,\n",
       " 425,\n",
       " 424,\n",
       " 423,\n",
       " 419,\n",
       " 417,\n",
       " 416,\n",
       " 415,\n",
       " 414,\n",
       " 413,\n",
       " 409,\n",
       " 407,\n",
       " 406,\n",
       " 403,\n",
       " 402,\n",
       " 399,\n",
       " 395,\n",
       " 389,\n",
       " 386,\n",
       " 384,\n",
       " 383,\n",
       " 382,\n",
       " 381,\n",
       " 380,\n",
       " 379,\n",
       " 378,\n",
       " 377,\n",
       " 373,\n",
       " 372,\n",
       " 371,\n",
       " 352,\n",
       " 351,\n",
       " 350,\n",
       " 349,\n",
       " 348,\n",
       " 347,\n",
       " 346,\n",
       " 345,\n",
       " 344,\n",
       " 343,\n",
       " 342,\n",
       " 341,\n",
       " 340,\n",
       " 339,\n",
       " 338,\n",
       " 337,\n",
       " 336,\n",
       " 335,\n",
       " 334,\n",
       " 333,\n",
       " 332,\n",
       " 331,\n",
       " 330,\n",
       " 329,\n",
       " 328,\n",
       " 327,\n",
       " 326,\n",
       " 325,\n",
       " 324,\n",
       " 323,\n",
       " 322,\n",
       " 321,\n",
       " 320,\n",
       " 319,\n",
       " 318,\n",
       " 317,\n",
       " 316,\n",
       " 315,\n",
       " 314,\n",
       " 313,\n",
       " 312,\n",
       " 311,\n",
       " 310,\n",
       " 309,\n",
       " 308,\n",
       " 307,\n",
       " 306,\n",
       " 305,\n",
       " 304,\n",
       " 303,\n",
       " 302,\n",
       " 301,\n",
       " 300,\n",
       " 299,\n",
       " 298,\n",
       " 297,\n",
       " 296,\n",
       " 295,\n",
       " 294,\n",
       " 293,\n",
       " 292,\n",
       " 291,\n",
       " 290,\n",
       " 289,\n",
       " 288,\n",
       " 287,\n",
       " 286,\n",
       " 285,\n",
       " 284,\n",
       " 283,\n",
       " 282,\n",
       " 281,\n",
       " 280,\n",
       " 279,\n",
       " 278,\n",
       " 277,\n",
       " 276,\n",
       " 275,\n",
       " 274,\n",
       " 273,\n",
       " 272,\n",
       " 271,\n",
       " 270,\n",
       " 269,\n",
       " 268,\n",
       " 267,\n",
       " 266,\n",
       " 265,\n",
       " 264,\n",
       " 263,\n",
       " 262,\n",
       " 261,\n",
       " 260,\n",
       " 259,\n",
       " 258,\n",
       " 257,\n",
       " 256,\n",
       " 255,\n",
       " 250,\n",
       " 249,\n",
       " 248,\n",
       " 247,\n",
       " 237,\n",
       " 229,\n",
       " 226,\n",
       " 222,\n",
       " 221,\n",
       " 220,\n",
       " 211,\n",
       " 195,\n",
       " 194,\n",
       " 188,\n",
       " 185,\n",
       " 180,\n",
       " 172,\n",
       " 170,\n",
       " 166,\n",
       " 155,\n",
       " 150,\n",
       " 148,\n",
       " 147,\n",
       " 145,\n",
       " 137,\n",
       " 136,\n",
       " 131,\n",
       " 126,\n",
       " 124,\n",
       " 122,\n",
       " 103,\n",
       " 99,\n",
       " 94,\n",
       " 92,\n",
       " 85,\n",
       " 77,\n",
       " 70,\n",
       " 60,\n",
       " 54,\n",
       " 51,\n",
       " 46,\n",
       " 42,\n",
       " 40,\n",
       " 39,\n",
       " 37,\n",
       " 35,\n",
       " 31,\n",
       " 30,\n",
       " 28,\n",
       " 26,\n",
       " 18,\n",
       " 16,\n",
       " 13,\n",
       " 10,\n",
       " 7,\n",
       " 1]"
      ]
     },
     "execution_count": 12,
     "metadata": {},
     "output_type": "execute_result"
    }
   ],
   "source": [
    "column_removed"
   ]
  },
  {
   "cell_type": "markdown",
   "id": "83a7a524",
   "metadata": {},
   "source": [
    "# Someone make a check if these columns are really all zeros values (so in starting file doesn't appears). It seems strange to me that about half of the features are all zeros value (but could be considering the way in which data are collected). Can be also some error I've made in first cell, but both Daniele were present when it has made and were pretty much sure it works properly"
   ]
  },
  {
   "cell_type": "code",
   "execution_count": 13,
   "id": "d4776989",
   "metadata": {},
   "outputs": [
    {
     "data": {
      "text/plain": [
       "(107856, 265)"
      ]
     },
     "execution_count": 13,
     "metadata": {},
     "output_type": "execute_result"
    }
   ],
   "source": [
    "np.shape(all_data)"
   ]
  },
  {
   "cell_type": "code",
   "execution_count": 14,
   "id": "fdee3242",
   "metadata": {},
   "outputs": [
    {
     "data": {
      "text/html": [
       "<div>\n",
       "<style scoped>\n",
       "    .dataframe tbody tr th:only-of-type {\n",
       "        vertical-align: middle;\n",
       "    }\n",
       "\n",
       "    .dataframe tbody tr th {\n",
       "        vertical-align: top;\n",
       "    }\n",
       "\n",
       "    .dataframe thead th {\n",
       "        text-align: right;\n",
       "    }\n",
       "</style>\n",
       "<table border=\"1\" class=\"dataframe\">\n",
       "  <thead>\n",
       "    <tr style=\"text-align: right;\">\n",
       "      <th></th>\n",
       "      <th>0</th>\n",
       "      <th>2</th>\n",
       "      <th>3</th>\n",
       "      <th>4</th>\n",
       "      <th>5</th>\n",
       "      <th>6</th>\n",
       "      <th>8</th>\n",
       "      <th>9</th>\n",
       "      <th>11</th>\n",
       "      <th>12</th>\n",
       "      <th>...</th>\n",
       "      <th>461</th>\n",
       "      <th>462</th>\n",
       "      <th>467</th>\n",
       "      <th>468</th>\n",
       "      <th>469</th>\n",
       "      <th>470</th>\n",
       "      <th>472</th>\n",
       "      <th>475</th>\n",
       "      <th>477</th>\n",
       "      <th>478</th>\n",
       "    </tr>\n",
       "  </thead>\n",
       "  <tbody>\n",
       "    <tr>\n",
       "      <th>0</th>\n",
       "      <td>3.0</td>\n",
       "      <td>0.0</td>\n",
       "      <td>0.0</td>\n",
       "      <td>0.0</td>\n",
       "      <td>0.0</td>\n",
       "      <td>0.0</td>\n",
       "      <td>0.0</td>\n",
       "      <td>0.0</td>\n",
       "      <td>0.0</td>\n",
       "      <td>0.0</td>\n",
       "      <td>...</td>\n",
       "      <td>0.0</td>\n",
       "      <td>0.0</td>\n",
       "      <td>0.0</td>\n",
       "      <td>0.0</td>\n",
       "      <td>0.0</td>\n",
       "      <td>0.0</td>\n",
       "      <td>0.0</td>\n",
       "      <td>0.0</td>\n",
       "      <td>0.0</td>\n",
       "      <td>0.0</td>\n",
       "    </tr>\n",
       "    <tr>\n",
       "      <th>1</th>\n",
       "      <td>0.0</td>\n",
       "      <td>0.0</td>\n",
       "      <td>0.0</td>\n",
       "      <td>0.0</td>\n",
       "      <td>0.0</td>\n",
       "      <td>0.0</td>\n",
       "      <td>0.0</td>\n",
       "      <td>0.0</td>\n",
       "      <td>0.0</td>\n",
       "      <td>0.0</td>\n",
       "      <td>...</td>\n",
       "      <td>0.0</td>\n",
       "      <td>0.0</td>\n",
       "      <td>0.0</td>\n",
       "      <td>0.0</td>\n",
       "      <td>1.0</td>\n",
       "      <td>0.0</td>\n",
       "      <td>0.0</td>\n",
       "      <td>0.0</td>\n",
       "      <td>0.0</td>\n",
       "      <td>0.0</td>\n",
       "    </tr>\n",
       "    <tr>\n",
       "      <th>2</th>\n",
       "      <td>0.0</td>\n",
       "      <td>0.0</td>\n",
       "      <td>0.0</td>\n",
       "      <td>0.0</td>\n",
       "      <td>0.0</td>\n",
       "      <td>0.0</td>\n",
       "      <td>0.0</td>\n",
       "      <td>0.0</td>\n",
       "      <td>0.0</td>\n",
       "      <td>0.0</td>\n",
       "      <td>...</td>\n",
       "      <td>0.0</td>\n",
       "      <td>0.0</td>\n",
       "      <td>0.0</td>\n",
       "      <td>0.0</td>\n",
       "      <td>0.0</td>\n",
       "      <td>0.0</td>\n",
       "      <td>0.0</td>\n",
       "      <td>0.0</td>\n",
       "      <td>0.0</td>\n",
       "      <td>0.0</td>\n",
       "    </tr>\n",
       "    <tr>\n",
       "      <th>3</th>\n",
       "      <td>0.0</td>\n",
       "      <td>0.0</td>\n",
       "      <td>0.0</td>\n",
       "      <td>0.0</td>\n",
       "      <td>1.0</td>\n",
       "      <td>0.0</td>\n",
       "      <td>0.0</td>\n",
       "      <td>0.0</td>\n",
       "      <td>0.0</td>\n",
       "      <td>0.0</td>\n",
       "      <td>...</td>\n",
       "      <td>0.0</td>\n",
       "      <td>0.0</td>\n",
       "      <td>0.0</td>\n",
       "      <td>0.0</td>\n",
       "      <td>0.0</td>\n",
       "      <td>0.0</td>\n",
       "      <td>1.0</td>\n",
       "      <td>0.0</td>\n",
       "      <td>0.0</td>\n",
       "      <td>0.0</td>\n",
       "    </tr>\n",
       "    <tr>\n",
       "      <th>4</th>\n",
       "      <td>0.0</td>\n",
       "      <td>0.0</td>\n",
       "      <td>0.0</td>\n",
       "      <td>0.0</td>\n",
       "      <td>0.0</td>\n",
       "      <td>0.0</td>\n",
       "      <td>0.0</td>\n",
       "      <td>0.0</td>\n",
       "      <td>0.0</td>\n",
       "      <td>0.0</td>\n",
       "      <td>...</td>\n",
       "      <td>0.0</td>\n",
       "      <td>0.0</td>\n",
       "      <td>0.0</td>\n",
       "      <td>0.0</td>\n",
       "      <td>0.0</td>\n",
       "      <td>0.0</td>\n",
       "      <td>0.0</td>\n",
       "      <td>0.0</td>\n",
       "      <td>0.0</td>\n",
       "      <td>0.0</td>\n",
       "    </tr>\n",
       "    <tr>\n",
       "      <th>...</th>\n",
       "      <td>...</td>\n",
       "      <td>...</td>\n",
       "      <td>...</td>\n",
       "      <td>...</td>\n",
       "      <td>...</td>\n",
       "      <td>...</td>\n",
       "      <td>...</td>\n",
       "      <td>...</td>\n",
       "      <td>...</td>\n",
       "      <td>...</td>\n",
       "      <td>...</td>\n",
       "      <td>...</td>\n",
       "      <td>...</td>\n",
       "      <td>...</td>\n",
       "      <td>...</td>\n",
       "      <td>...</td>\n",
       "      <td>...</td>\n",
       "      <td>...</td>\n",
       "      <td>...</td>\n",
       "      <td>...</td>\n",
       "      <td>...</td>\n",
       "    </tr>\n",
       "    <tr>\n",
       "      <th>107851</th>\n",
       "      <td>0.0</td>\n",
       "      <td>0.0</td>\n",
       "      <td>0.0</td>\n",
       "      <td>0.0</td>\n",
       "      <td>0.0</td>\n",
       "      <td>0.0</td>\n",
       "      <td>0.0</td>\n",
       "      <td>0.0</td>\n",
       "      <td>0.0</td>\n",
       "      <td>0.0</td>\n",
       "      <td>...</td>\n",
       "      <td>0.0</td>\n",
       "      <td>0.0</td>\n",
       "      <td>0.0</td>\n",
       "      <td>0.0</td>\n",
       "      <td>0.0</td>\n",
       "      <td>0.0</td>\n",
       "      <td>0.0</td>\n",
       "      <td>0.0</td>\n",
       "      <td>0.0</td>\n",
       "      <td>0.0</td>\n",
       "    </tr>\n",
       "    <tr>\n",
       "      <th>107852</th>\n",
       "      <td>0.0</td>\n",
       "      <td>0.0</td>\n",
       "      <td>0.0</td>\n",
       "      <td>0.0</td>\n",
       "      <td>0.0</td>\n",
       "      <td>0.0</td>\n",
       "      <td>0.0</td>\n",
       "      <td>0.0</td>\n",
       "      <td>0.0</td>\n",
       "      <td>0.0</td>\n",
       "      <td>...</td>\n",
       "      <td>0.0</td>\n",
       "      <td>0.0</td>\n",
       "      <td>0.0</td>\n",
       "      <td>0.0</td>\n",
       "      <td>0.0</td>\n",
       "      <td>0.0</td>\n",
       "      <td>0.0</td>\n",
       "      <td>0.0</td>\n",
       "      <td>0.0</td>\n",
       "      <td>0.0</td>\n",
       "    </tr>\n",
       "    <tr>\n",
       "      <th>107853</th>\n",
       "      <td>0.0</td>\n",
       "      <td>0.0</td>\n",
       "      <td>0.0</td>\n",
       "      <td>0.0</td>\n",
       "      <td>0.0</td>\n",
       "      <td>0.0</td>\n",
       "      <td>0.0</td>\n",
       "      <td>0.0</td>\n",
       "      <td>0.0</td>\n",
       "      <td>0.0</td>\n",
       "      <td>...</td>\n",
       "      <td>0.0</td>\n",
       "      <td>0.0</td>\n",
       "      <td>0.0</td>\n",
       "      <td>0.0</td>\n",
       "      <td>0.0</td>\n",
       "      <td>0.0</td>\n",
       "      <td>0.0</td>\n",
       "      <td>0.0</td>\n",
       "      <td>0.0</td>\n",
       "      <td>0.0</td>\n",
       "    </tr>\n",
       "    <tr>\n",
       "      <th>107854</th>\n",
       "      <td>0.0</td>\n",
       "      <td>0.0</td>\n",
       "      <td>0.0</td>\n",
       "      <td>0.0</td>\n",
       "      <td>4.0</td>\n",
       "      <td>0.0</td>\n",
       "      <td>0.0</td>\n",
       "      <td>0.0</td>\n",
       "      <td>0.0</td>\n",
       "      <td>1.0</td>\n",
       "      <td>...</td>\n",
       "      <td>0.0</td>\n",
       "      <td>0.0</td>\n",
       "      <td>0.0</td>\n",
       "      <td>0.0</td>\n",
       "      <td>0.0</td>\n",
       "      <td>0.0</td>\n",
       "      <td>0.0</td>\n",
       "      <td>0.0</td>\n",
       "      <td>0.0</td>\n",
       "      <td>0.0</td>\n",
       "    </tr>\n",
       "    <tr>\n",
       "      <th>107855</th>\n",
       "      <td>1.0</td>\n",
       "      <td>0.0</td>\n",
       "      <td>0.0</td>\n",
       "      <td>0.0</td>\n",
       "      <td>4.0</td>\n",
       "      <td>0.0</td>\n",
       "      <td>0.0</td>\n",
       "      <td>0.0</td>\n",
       "      <td>0.0</td>\n",
       "      <td>1.0</td>\n",
       "      <td>...</td>\n",
       "      <td>0.0</td>\n",
       "      <td>0.0</td>\n",
       "      <td>0.0</td>\n",
       "      <td>0.0</td>\n",
       "      <td>0.0</td>\n",
       "      <td>0.0</td>\n",
       "      <td>0.0</td>\n",
       "      <td>0.0</td>\n",
       "      <td>0.0</td>\n",
       "      <td>0.0</td>\n",
       "    </tr>\n",
       "  </tbody>\n",
       "</table>\n",
       "<p>107856 rows × 265 columns</p>\n",
       "</div>"
      ],
      "text/plain": [
       "        0    2    3    4    5    6    8    9    11   12   ...  461  462  467  \\\n",
       "0       3.0  0.0  0.0  0.0  0.0  0.0  0.0  0.0  0.0  0.0  ...  0.0  0.0  0.0   \n",
       "1       0.0  0.0  0.0  0.0  0.0  0.0  0.0  0.0  0.0  0.0  ...  0.0  0.0  0.0   \n",
       "2       0.0  0.0  0.0  0.0  0.0  0.0  0.0  0.0  0.0  0.0  ...  0.0  0.0  0.0   \n",
       "3       0.0  0.0  0.0  0.0  1.0  0.0  0.0  0.0  0.0  0.0  ...  0.0  0.0  0.0   \n",
       "4       0.0  0.0  0.0  0.0  0.0  0.0  0.0  0.0  0.0  0.0  ...  0.0  0.0  0.0   \n",
       "...     ...  ...  ...  ...  ...  ...  ...  ...  ...  ...  ...  ...  ...  ...   \n",
       "107851  0.0  0.0  0.0  0.0  0.0  0.0  0.0  0.0  0.0  0.0  ...  0.0  0.0  0.0   \n",
       "107852  0.0  0.0  0.0  0.0  0.0  0.0  0.0  0.0  0.0  0.0  ...  0.0  0.0  0.0   \n",
       "107853  0.0  0.0  0.0  0.0  0.0  0.0  0.0  0.0  0.0  0.0  ...  0.0  0.0  0.0   \n",
       "107854  0.0  0.0  0.0  0.0  4.0  0.0  0.0  0.0  0.0  1.0  ...  0.0  0.0  0.0   \n",
       "107855  1.0  0.0  0.0  0.0  4.0  0.0  0.0  0.0  0.0  1.0  ...  0.0  0.0  0.0   \n",
       "\n",
       "        468  469  470  472  475  477  478  \n",
       "0       0.0  0.0  0.0  0.0  0.0  0.0  0.0  \n",
       "1       0.0  1.0  0.0  0.0  0.0  0.0  0.0  \n",
       "2       0.0  0.0  0.0  0.0  0.0  0.0  0.0  \n",
       "3       0.0  0.0  0.0  1.0  0.0  0.0  0.0  \n",
       "4       0.0  0.0  0.0  0.0  0.0  0.0  0.0  \n",
       "...     ...  ...  ...  ...  ...  ...  ...  \n",
       "107851  0.0  0.0  0.0  0.0  0.0  0.0  0.0  \n",
       "107852  0.0  0.0  0.0  0.0  0.0  0.0  0.0  \n",
       "107853  0.0  0.0  0.0  0.0  0.0  0.0  0.0  \n",
       "107854  0.0  0.0  0.0  0.0  0.0  0.0  0.0  \n",
       "107855  0.0  0.0  0.0  0.0  0.0  0.0  0.0  \n",
       "\n",
       "[107856 rows x 265 columns]"
      ]
     },
     "execution_count": 14,
     "metadata": {},
     "output_type": "execute_result"
    }
   ],
   "source": [
    "all_data_df"
   ]
  },
  {
   "cell_type": "code",
   "execution_count": null,
   "id": "e473121c",
   "metadata": {},
   "outputs": [],
   "source": []
  },
  {
   "cell_type": "markdown",
   "id": "df71b908",
   "metadata": {},
   "source": [
    "# In this part of code someone can statistical studies (like create graph which can be interesting to show in slides an things like this, e.g. distribution, correlations, outliers, etc.). Consider that 265 feature are a lot, so probably would be difficult to use things like seaborn"
   ]
  },
  {
   "cell_type": "markdown",
   "id": "05944d4f",
   "metadata": {},
   "source": [
    "PCA"
   ]
  },
  {
   "cell_type": "code",
   "execution_count": 15,
   "id": "b40c62d4",
   "metadata": {},
   "outputs": [],
   "source": [
    "from sklearn.preprocessing import StandardScaler\n",
    "from sklearn.cluster import KMeans\n",
    "from sklearn.decomposition import PCA\n",
    "import matplotlib.pyplot as plt\n",
    "from sklearn.metrics import silhouette_samples, silhouette_score\n",
    "import matplotlib.cm as cm\n",
    "\n",
    "scaler = StandardScaler()\n",
    "scaler.fit(all_data)\n",
    "all_data_scaled = scaler.transform(all_data)\n",
    "\n",
    "pca = PCA()\n",
    "pca.fit(all_data_scaled)\n",
    "pca_data = pca.transform(all_data_scaled)"
   ]
  },
  {
   "cell_type": "markdown",
   "id": "ea3b257e",
   "metadata": {},
   "source": [
    "# Here someone can make some statistical studies over data after pca (i've tried something, but i don't get too much for now. For the moment I leave this message, then we'll see)"
   ]
  },
  {
   "cell_type": "markdown",
   "id": "fa992942",
   "metadata": {},
   "source": [
    "In order to reduce dimensionality we'll consider the firs n PCA which explained variance sum amount at least to 80% variance of the dataset"
   ]
  },
  {
   "cell_type": "code",
   "execution_count": 16,
   "id": "5a5fe759",
   "metadata": {},
   "outputs": [
    {
     "name": "stdout",
     "output_type": "stream",
     "text": [
      "the first 134 components explain 80.2% variance of the dataset\n"
     ]
    }
   ],
   "source": [
    "amount_of_var = 0\n",
    "for i, PC_var in enumerate(pca.explained_variance_ratio_):\n",
    "    amount_of_var += PC_var * 100\n",
    "    if amount_of_var >= 80:\n",
    "        print(\"the first \" + str(i) + \" components explain \" + str(np.round(amount_of_var, decimals=1)) + \"% variance of the dataset\")\n",
    "        break"
   ]
  },
  {
   "cell_type": "markdown",
   "id": "c36378b9",
   "metadata": {},
   "source": [
    "reduce dimensionality in order to make experiments"
   ]
  },
  {
   "cell_type": "code",
   "execution_count": null,
   "id": "59053fa9",
   "metadata": {},
   "outputs": [],
   "source": [
    "pca_2 = PCA(n_components=134)\n",
    "pca_2.fit(all_data_scaled)\n",
    "final_pca_data = pca_2.transform(all_data_scaled)"
   ]
  },
  {
   "cell_type": "markdown",
   "id": "69d0aa2f",
   "metadata": {},
   "source": [
    "Make kmeans clustering experiments"
   ]
  },
  {
   "cell_type": "code",
   "execution_count": 22,
   "id": "651ebda6",
   "metadata": {},
   "outputs": [
    {
     "name": "stdout",
     "output_type": "stream",
     "text": [
      "overall clustering silhouette 0.8044993281364441\n"
     ]
    },
    {
     "data": {
      "image/png": "[encoded data removed]",
      "text/plain": [
       "<Figure size 1080x360 with 2 Axes>"
      ]
     },
     "metadata": {
      "needs_background": "light"
     },
     "output_type": "display_data"
    },
    {
     "data": {
      "text/plain": [
       "<Figure size 432x288 with 0 Axes>"
      ]
     },
     "metadata": {},
     "output_type": "display_data"
    }
   ],
   "source": [
    "K=2   # for the moment just 2 because has high execution time and I just want to see if code works before commit\n",
    "kmeans_model = KMeans(n_clusters=K)\n",
    "kmeans_model.fit(all_data_scaled)\n",
    "kmeans_label = kmeans_model.labels_\n",
    "pca_model = PCA(n_components=134)\n",
    "pca_coordinates = pca_model.fit_transform(all_data_scaled)\n",
    "pca_centroids = pca_model.transform(kmeans_model.cluster_centers_)\n",
    "silhouette_avg = silhouette_score(all_data_scaled, kmeans_label)\n",
    "sample_silhouette_values = silhouette_samples(all_data_scaled, kmeans_label)\n",
    "\n",
    "print(f'overall clustering silhouette {silhouette_avg}')\n",
    "\n",
    "fig, ax = plt.subplots(1,2,figsize=(15,5))\n",
    "y_lower = 0 \n",
    "y_upper = 0\n",
    "for i,cluster in enumerate(np.unique(kmeans_label)):\n",
    "    cluster_silhouette_vals = sample_silhouette_values[kmeans_label == cluster]\n",
    "    cluster_silhouette_vals.sort()\n",
    "    cluster_silhouette_mean=cluster_silhouette_vals.mean()\n",
    "    y_upper += len(cluster_silhouette_vals)\n",
    "    color = cm.nipy_spectral(float(i) / K)\n",
    "    ax[0].barh(range(y_lower,y_upper), cluster_silhouette_vals, height=1, color=color)\n",
    "    ax[0].text(-0.03, (y_lower+y_upper)/2, str(i))\n",
    "    ax[0].text(silhouette_avg+0.03, y_lower, cluster_silhouette_mean)  \n",
    "    y_lower += len(cluster_silhouette_vals)\n",
    "\n",
    "ax[0].axvline(silhouette_avg, linestyle ='--', linewidth =2, color = 'green')\n",
    "colors = cm.nipy_spectral(kmeans_label.astype(float) / K)\n",
    "ax[1].scatter(pca_coordinates[:, 0], pca_coordinates[:, 1], c=colors)\n",
    "plt.show()\n",
    "plt.clf()"
   ]
  },
  {
   "cell_type": "code",
   "execution_count": 23,
   "id": "066b455d",
   "metadata": {},
   "outputs": [
    {
     "name": "stdout",
     "output_type": "stream",
     "text": [
      "107578\n",
      "278\n"
     ]
    }
   ],
   "source": [
    "counter_zero = 0\n",
    "counter_one = 0\n",
    "for element in kmeans_label:\n",
    "    if element == 0:\n",
    "        counter_zero += 1\n",
    "    else:\n",
    "        counter_one += 1\n",
    "print(counter_zero)\n",
    "print(counter_one)"
   ]
  },
  {
   "cell_type": "markdown",
   "id": "71af39f5",
   "metadata": {},
   "source": [
    "# seems that K=2 it's a good choice, but shilouette of second cluster it's too much small (some error? I've checked more times but I haven't found)"
   ]
  },
  {
   "cell_type": "code",
   "execution_count": 18,
   "id": "486c117b",
   "metadata": {},
   "outputs": [
    {
     "name": "stdout",
     "output_type": "stream",
     "text": [
      "overall clustering silhouette 0.32468467950820923\n"
     ]
    },
    {
     "data": {
      "image/png": "[encoded data removed]",
      "text/plain": [
       "<Figure size 1080x360 with 2 Axes>"
      ]
     },
     "metadata": {
      "needs_background": "light"
     },
     "output_type": "display_data"
    },
    {
     "data": {
      "text/plain": [
       "<Figure size 432x288 with 0 Axes>"
      ]
     },
     "metadata": {},
     "output_type": "display_data"
    }
   ],
   "source": [
    "K=3   # for the moment just 2 because has high execution time and I just want to see if code works before commit\n",
    "kmeans_model = KMeans(n_clusters=K)\n",
    "kmeans_model.fit(all_data_scaled)\n",
    "kmeans_label = kmeans_model.labels_\n",
    "pca_model = PCA(n_components=134)\n",
    "pca_coordinates = pca_model.fit_transform(all_data_scaled)\n",
    "pca_centroids = pca_model.transform(kmeans_model.cluster_centers_)\n",
    "silhouette_avg = silhouette_score(all_data_scaled, kmeans_label)\n",
    "sample_silhouette_values = silhouette_samples(all_data_scaled, kmeans_label)\n",
    "\n",
    "print(f'overall clustering silhouette {silhouette_avg}')\n",
    "\n",
    "fig, ax = plt.subplots(1,2,figsize=(15,5))\n",
    "y_lower = 0 \n",
    "y_upper = 0\n",
    "for i,cluster in enumerate(np.unique(kmeans_label)):\n",
    "    cluster_silhouette_vals = sample_silhouette_values[kmeans_label == cluster]\n",
    "    cluster_silhouette_vals.sort()\n",
    "    cluster_silhouette_mean=cluster_silhouette_vals.mean()\n",
    "    y_upper += len(cluster_silhouette_vals)\n",
    "    color = cm.nipy_spectral(float(i) / K)\n",
    "    ax[0].barh(range(y_lower,y_upper), cluster_silhouette_vals, height=1, color=color)\n",
    "    ax[0].text(-0.03, (y_lower+y_upper)/2, str(i))\n",
    "    ax[0].text(silhouette_avg+0.03, y_lower, cluster_silhouette_mean)  \n",
    "    y_lower += len(cluster_silhouette_vals)\n",
    "\n",
    "ax[0].axvline(silhouette_avg, linestyle ='--', linewidth =2, color = 'green')\n",
    "colors = cm.nipy_spectral(kmeans_label.astype(float) / K)\n",
    "ax[1].scatter(pca_coordinates[:, 0], pca_coordinates[:, 1], c=colors)\n",
    "plt.show()\n",
    "plt.clf()"
   ]
  },
  {
   "cell_type": "code",
   "execution_count": 24,
   "id": "5787a664",
   "metadata": {},
   "outputs": [
    {
     "name": "stdout",
     "output_type": "stream",
     "text": [
      "86956\n",
      "20623\n",
      "277\n"
     ]
    }
   ],
   "source": [
    "counter_zero = 0\n",
    "counter_one = 0\n",
    "counter_two = 0\n",
    "for element in kmeans_label:\n",
    "    if element == 0:\n",
    "        counter_zero += 1\n",
    "    elif element == 1:\n",
    "        counter_one += 1\n",
    "    else:\n",
    "        counter_two += 1\n",
    "        \n",
    "print(counter_zero)\n",
    "print(counter_one)\n",
    "print(counter_two)"
   ]
  },
  {
   "cell_type": "code",
   "execution_count": 25,
   "id": "36b4141d",
   "metadata": {},
   "outputs": [
    {
     "name": "stdout",
     "output_type": "stream",
     "text": [
      "overall clustering silhouette 0.30623742938041687\n"
     ]
    },
    {
     "data": {
      "image/png": "[encoded data removed]",
      "text/plain": [
       "<Figure size 1080x360 with 2 Axes>"
      ]
     },
     "metadata": {
      "needs_background": "light"
     },
     "output_type": "display_data"
    },
    {
     "data": {
      "text/plain": [
       "<Figure size 432x288 with 0 Axes>"
      ]
     },
     "metadata": {},
     "output_type": "display_data"
    }
   ],
   "source": [
    "K=4   # for the moment just 2 because has high execution time and I just want to see if code works before commit\n",
    "kmeans_model = KMeans(n_clusters=K)\n",
    "kmeans_model.fit(all_data_scaled)\n",
    "kmeans_label = kmeans_model.labels_\n",
    "pca_model = PCA(n_components=134)\n",
    "pca_coordinates = pca_model.fit_transform(all_data_scaled)\n",
    "pca_centroids = pca_model.transform(kmeans_model.cluster_centers_)\n",
    "silhouette_avg = silhouette_score(all_data_scaled, kmeans_label)\n",
    "sample_silhouette_values = silhouette_samples(all_data_scaled, kmeans_label)\n",
    "\n",
    "print(f'overall clustering silhouette {silhouette_avg}')\n",
    "\n",
    "fig, ax = plt.subplots(1,2,figsize=(15,5))\n",
    "y_lower = 0 \n",
    "y_upper = 0\n",
    "for i,cluster in enumerate(np.unique(kmeans_label)):\n",
    "    cluster_silhouette_vals = sample_silhouette_values[kmeans_label == cluster]\n",
    "    cluster_silhouette_vals.sort()\n",
    "    cluster_silhouette_mean=cluster_silhouette_vals.mean()\n",
    "    y_upper += len(cluster_silhouette_vals)\n",
    "    color = cm.nipy_spectral(float(i) / K)\n",
    "    ax[0].barh(range(y_lower,y_upper), cluster_silhouette_vals, height=1, color=color)\n",
    "    ax[0].text(-0.03, (y_lower+y_upper)/2, str(i))\n",
    "    ax[0].text(silhouette_avg+0.03, y_lower, cluster_silhouette_mean)  \n",
    "    y_lower += len(cluster_silhouette_vals)\n",
    "\n",
    "ax[0].axvline(silhouette_avg, linestyle ='--', linewidth =2, color = 'green')\n",
    "colors = cm.nipy_spectral(kmeans_label.astype(float) / K)\n",
    "ax[1].scatter(pca_coordinates[:, 0], pca_coordinates[:, 1], c=colors)\n",
    "plt.show()\n",
    "plt.clf()"
   ]
  },
  {
   "cell_type": "code",
   "execution_count": 26,
   "id": "f52f9806",
   "metadata": {},
   "outputs": [
    {
     "name": "stdout",
     "output_type": "stream",
     "text": [
      "1809\n",
      "19872\n",
      "277\n",
      "85898\n"
     ]
    }
   ],
   "source": [
    "counter_zero = 0\n",
    "counter_one = 0\n",
    "counter_two = 0\n",
    "counter_three = 0\n",
    "for element in kmeans_label:\n",
    "    if element == 0:\n",
    "        counter_zero += 1\n",
    "    elif element == 1:\n",
    "        counter_one += 1\n",
    "    elif element == 2:\n",
    "        counter_two += 1\n",
    "    else:\n",
    "        counter_three += 1\n",
    "        \n",
    "print(counter_zero)\n",
    "print(counter_one)\n",
    "print(counter_two)\n",
    "print(counter_three)"
   ]
  },
  {
   "cell_type": "code",
   "execution_count": 27,
   "id": "3c07497d",
   "metadata": {},
   "outputs": [
    {
     "name": "stdout",
     "output_type": "stream",
     "text": [
      "overall clustering silhouette 0.3275983929634094\n"
     ]
    },
    {
     "data": {
      "image/png": "[encoded data removed]",
      "text/plain": [
       "<Figure size 1080x360 with 2 Axes>"
      ]
     },
     "metadata": {
      "needs_background": "light"
     },
     "output_type": "display_data"
    },
    {
     "data": {
      "text/plain": [
       "<Figure size 432x288 with 0 Axes>"
      ]
     },
     "metadata": {},
     "output_type": "display_data"
    }
   ],
   "source": [
    "K=5   # for the moment just 2 because has high execution time and I just want to see if code works before commit\n",
    "kmeans_model = KMeans(n_clusters=K)\n",
    "kmeans_model.fit(all_data_scaled)\n",
    "kmeans_label = kmeans_model.labels_\n",
    "pca_model = PCA(n_components=134)\n",
    "pca_coordinates = pca_model.fit_transform(all_data_scaled)\n",
    "pca_centroids = pca_model.transform(kmeans_model.cluster_centers_)\n",
    "silhouette_avg = silhouette_score(all_data_scaled, kmeans_label)\n",
    "sample_silhouette_values = silhouette_samples(all_data_scaled, kmeans_label)\n",
    "\n",
    "print(f'overall clustering silhouette {silhouette_avg}')\n",
    "\n",
    "fig, ax = plt.subplots(1,2,figsize=(15,5))\n",
    "y_lower = 0 \n",
    "y_upper = 0\n",
    "for i,cluster in enumerate(np.unique(kmeans_label)):\n",
    "    cluster_silhouette_vals = sample_silhouette_values[kmeans_label == cluster]\n",
    "    cluster_silhouette_vals.sort()\n",
    "    cluster_silhouette_mean=cluster_silhouette_vals.mean()\n",
    "    y_upper += len(cluster_silhouette_vals)\n",
    "    color = cm.nipy_spectral(float(i) / K)\n",
    "    ax[0].barh(range(y_lower,y_upper), cluster_silhouette_vals, height=1, color=color)\n",
    "    ax[0].text(-0.03, (y_lower+y_upper)/2, str(i))\n",
    "    ax[0].text(silhouette_avg+0.03, y_lower, cluster_silhouette_mean)  \n",
    "    y_lower += len(cluster_silhouette_vals)\n",
    "\n",
    "ax[0].axvline(silhouette_avg, linestyle ='--', linewidth =2, color = 'green')\n",
    "colors = cm.nipy_spectral(kmeans_label.astype(float) / K)\n",
    "ax[1].scatter(pca_coordinates[:, 0], pca_coordinates[:, 1], c=colors)\n",
    "plt.show()\n",
    "plt.clf()"
   ]
  },
  {
   "cell_type": "code",
   "execution_count": 28,
   "id": "4e66221b",
   "metadata": {},
   "outputs": [
    {
     "name": "stdout",
     "output_type": "stream",
     "text": [
      "86828\n",
      "117\n",
      "1\n",
      "20633\n",
      "0\n"
     ]
    }
   ],
   "source": [
    "counter_zero = 0\n",
    "counter_one = 0\n",
    "counter_two = 0\n",
    "counter_three = 0\n",
    "counter_four = 0\n",
    "for element in kmeans_label:\n",
    "    if element == 0:\n",
    "        counter_zero += 1\n",
    "    elif element == 1:\n",
    "        counter_one += 1\n",
    "    elif element == 2:\n",
    "        counter_two += 1\n",
    "    elif element == 3:\n",
    "        counter_three += 1\n",
    "    else:\n",
    "        counter_four += 0\n",
    "        \n",
    "print(counter_zero)\n",
    "print(counter_one)\n",
    "print(counter_two)\n",
    "print(counter_three)\n",
    "print(counter_four)"
   ]
  },
  {
   "cell_type": "markdown",
   "id": "085c874f",
   "metadata": {},
   "source": [
    "# at this point I think it's clear that k=2 it's the best decision, even if the first cluster has just 200 member aginst the 100000 of the second"
   ]
  },
  {
   "cell_type": "code",
   "execution_count": null,
   "id": "2e299d89",
   "metadata": {},
   "outputs": [],
   "source": []
  }
 ],
 "metadata": {
  "kernelspec": {
   "display_name": "Python 3 (ipykernel)",
   "language": "python",
   "name": "python3"
  },
  "language_info": {
   "codemirror_mode": {
    "name": "ipython",
    "version": 3
   },
   "file_extension": ".py",
   "mimetype": "text/x-python",
   "name": "python",
   "nbconvert_exporter": "python",
   "pygments_lexer": "ipython3",
   "version": "3.8.12"
  }
 },
 "nbformat": 4,
 "nbformat_minor": 5
}
